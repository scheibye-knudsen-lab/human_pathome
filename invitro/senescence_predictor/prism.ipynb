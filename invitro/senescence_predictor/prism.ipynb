{
 "cells": [
  {
   "cell_type": "code",
   "execution_count": 3,
   "id": "c156669b-22a5-44c0-b202-8c88de307429",
   "metadata": {},
   "outputs": [],
   "source": [
    "import numpy as np\n",
    "import matplotlib.pyplot as plt\n",
    "import pandas as pd"
   ]
  },
  {
   "cell_type": "code",
   "execution_count": 37,
   "id": "1dc0a3da-c0a1-4784-8f58-e70599cc515d",
   "metadata": {},
   "outputs": [],
   "source": [
    "celltype='159'"
   ]
  },
  {
   "cell_type": "code",
   "execution_count": 38,
   "id": "dff6df17-b854-4966-b869-ac9ad1d5574a",
   "metadata": {},
   "outputs": [],
   "source": [
    "markersize = 20\n",
    "capsize = 8\n",
    "elinewidth = 2\n",
    "capthick = 2\n",
    "alpha = 1\n",
    "figsize=(6, 9)"
   ]
  },
  {
   "cell_type": "code",
   "execution_count": 39,
   "id": "69bc7007-e06d-409d-9307-b1720b65add5",
   "metadata": {},
   "outputs": [],
   "source": [
    "c_222_ab_48h = pd.read_csv(celltype+'_AB_48h.pzfx.c_'+celltype+'_ab_48h.tsv', header=0, index_col=1, delimiter='\\t', decimal=',')\n",
    "a_sen = c_222_ab_48h[['a_1', 'a_2', 'a_3']]; a_sen = a_sen/a_sen.iloc[0]; a_non = c_222_ab_48h[['a_1.1', 'a_2.1', 'a_3.1']]; a_non = a_non/a_non.iloc[0]\n",
    "b_sen = c_222_ab_48h[['b_1', 'b_2', 'b_3']]; b_sen = b_sen/b_sen.iloc[0]; b_non = c_222_ab_48h[['b_1.1', 'b_2.1', 'b_3.1']]; b_non = b_non/b_non.iloc[0]"
   ]
  },
  {
   "cell_type": "code",
   "execution_count": 40,
   "id": "284602cc-f3c8-4679-be71-8a2c63295d64",
   "metadata": {},
   "outputs": [
    {
     "data": {
      "text/plain": [
       "56.60431126251721"
      ]
     },
     "execution_count": 40,
     "metadata": {},
     "output_type": "execute_result"
    }
   ],
   "source": [
    "(1-(0.501008/1.154511))*100"
   ]
  },
  {
   "cell_type": "code",
   "execution_count": 41,
   "id": "b8684c9c-b448-43c7-8021-55deb825489c",
   "metadata": {},
   "outputs": [
    {
     "data": {
      "text/plain": [
       "0.00     1.000000\n",
       "0.01     1.149891\n",
       "0.10     1.288436\n",
       "1.00     1.361908\n",
       "10.00    0.452082\n",
       "dtype: float64"
      ]
     },
     "execution_count": 41,
     "metadata": {},
     "output_type": "execute_result"
    }
   ],
   "source": [
    "b_sen.mean(axis=1)"
   ]
  },
  {
   "cell_type": "code",
   "execution_count": 42,
   "id": "f7f47036-1b85-4ffc-ad41-7e9f3d61bcbf",
   "metadata": {},
   "outputs": [
    {
     "data": {
      "text/plain": [
       "0.00     1.000000\n",
       "0.01     1.042222\n",
       "0.10     0.944839\n",
       "1.00     0.905120\n",
       "10.00    0.063429\n",
       "dtype: float64"
      ]
     },
     "execution_count": 42,
     "metadata": {},
     "output_type": "execute_result"
    }
   ],
   "source": [
    "b_non.mean(axis=1)"
   ]
  },
  {
   "cell_type": "code",
   "execution_count": 43,
   "id": "11af1e76-20ca-49e2-bce9-5af3480a38ec",
   "metadata": {},
   "outputs": [],
   "source": [
    "fig, ax = plt.subplots(figsize=figsize)\n",
    "ax.spines['right'].set_visible(False); ax.spines['left'].set_visible(False); ax.spines['top'].set_visible(False); ax.spines['bottom'].set_visible(False)\n",
    "ax.set_yticks([0, 0.5, 1, 1.5]); ax.set_ylim([0, 1.5]); ax.yaxis.set_ticklabels([]); ax.xaxis.set_ticklabels([])\n",
    "plt.errorbar(b_sen.index.astype(str), b_sen.mean(axis=1), yerr=b_sen.sem(axis=1), color='red', fmt='o', linestyle='-', markersize=markersize, capsize=capsize, elinewidth=elinewidth, capthick=capthick, alpha=alpha)\n",
    "plt.errorbar(b_non.index.astype(str), b_non.mean(axis=1), yerr=b_non.sem(axis=1), color='gray', fmt='o', linestyle='-', markersize=markersize, capsize=capsize, elinewidth=elinewidth, capthick=capthick, alpha=alpha)\n",
    "fig.tight_layout(); fig.savefig(celltype+'relative_cell_count_B.png', transparent=True); plt.close()"
   ]
  },
  {
   "cell_type": "code",
   "execution_count": 44,
   "id": "f2d08e61-5631-4f81-beac-f83a3a5e18b0",
   "metadata": {},
   "outputs": [],
   "source": [
    "fig, ax = plt.subplots(figsize=figsize)\n",
    "ax.spines['right'].set_visible(False); ax.spines['left'].set_visible(False); ax.spines['top'].set_visible(False); ax.spines['bottom'].set_visible(False)\n",
    "ax.set_yticks([0, 0.5, 1, 1.5]); ax.set_ylim([0, 1.5]); ax.yaxis.set_ticklabels([]); ax.xaxis.set_ticklabels([])\n",
    "plt.errorbar(a_sen.index.astype(str), a_sen.mean(axis=1), yerr=a_sen.sem(axis=1), color='red', fmt='o', linestyle='-', markersize=markersize, capsize=capsize, elinewidth=elinewidth, capthick=capthick, alpha=alpha)\n",
    "plt.errorbar(a_non.index.astype(str), a_non.mean(axis=1), yerr=a_non.sem(axis=1), color='gray', fmt='o', linestyle='-', markersize=markersize, capsize=capsize, elinewidth=elinewidth, capthick=capthick, alpha=alpha)\n",
    "fig.tight_layout(); fig.savefig(celltype+'relative_cell_count_A.png', transparent=True); plt.close()"
   ]
  },
  {
   "cell_type": "code",
   "execution_count": 45,
   "id": "124a776a-9ec8-4e71-a837-dc478e732546",
   "metadata": {},
   "outputs": [],
   "source": [
    "p_sen_222_ab_48h = pd.read_csv(celltype+'_AB_48h.pzfx.p_sen_'+celltype+'_ab_48h.tsv', header=0, index_col=1, delimiter='\\t', decimal=',')\n",
    "a_sen = p_sen_222_ab_48h[['a_1', 'a_2', 'a_3']]; b_sen = p_sen_222_ab_48h[['b_1', 'b_2', 'b_3']]; \n",
    "a_non = p_sen_222_ab_48h[['a_1.1', 'a_2.1', 'a_3.1']]; b_non = p_sen_222_ab_48h[['b_1.1', 'b_2.1', 'b_3.1']]"
   ]
  },
  {
   "cell_type": "code",
   "execution_count": 46,
   "id": "5d6f583c-b9f1-42c9-9d9c-7360cc8b765e",
   "metadata": {},
   "outputs": [
    {
     "data": {
      "text/plain": [
       "41.26189926359274"
      ]
     },
     "execution_count": 46,
     "metadata": {},
     "output_type": "execute_result"
    }
   ],
   "source": [
    "(1-(0.343380/0.584595))*100"
   ]
  },
  {
   "cell_type": "code",
   "execution_count": 47,
   "id": "4c8468f0-d8f4-4957-bd7f-79796e42de89",
   "metadata": {},
   "outputs": [
    {
     "data": {
      "text/plain": [
       "0.00     0.523517\n",
       "0.01     0.498792\n",
       "0.10     0.503094\n",
       "1.00     0.511159\n",
       "10.00    0.265401\n",
       "dtype: float64"
      ]
     },
     "execution_count": 47,
     "metadata": {},
     "output_type": "execute_result"
    }
   ],
   "source": [
    "b_sen.mean(axis=1)"
   ]
  },
  {
   "cell_type": "code",
   "execution_count": 48,
   "id": "f96538a3-2bd1-423c-a0b6-6f04cbb058c5",
   "metadata": {},
   "outputs": [
    {
     "data": {
      "text/plain": [
       "0.00     0.192369\n",
       "0.01     0.212099\n",
       "0.10     0.222094\n",
       "1.00     0.253015\n",
       "10.00    0.314060\n",
       "dtype: float64"
      ]
     },
     "execution_count": 48,
     "metadata": {},
     "output_type": "execute_result"
    }
   ],
   "source": [
    "b_non.mean(axis=1)"
   ]
  },
  {
   "cell_type": "code",
   "execution_count": 49,
   "id": "5f70902b-0284-4246-a23f-62db66919912",
   "metadata": {},
   "outputs": [],
   "source": [
    "fig, ax = plt.subplots(figsize=figsize)\n",
    "ax.spines['right'].set_visible(False); ax.spines['left'].set_visible(False); ax.spines['top'].set_visible(False); ax.spines['bottom'].set_visible(False)\n",
    "ax.set_yticks([0.2, 0.3, 0.4, 0.5, 0.6, 0.7]); ax.set_ylim([0.2, 0.7]); ax.yaxis.set_ticklabels([]); ax.xaxis.set_ticklabels([])\n",
    "plt.errorbar(b_sen.index.astype(str), b_sen.mean(axis=1), yerr=b_sen.sem(axis=1), color='red', fmt='o', linestyle='-', markersize=markersize, capsize=capsize, elinewidth=elinewidth, capthick=capthick, alpha=alpha)\n",
    "plt.errorbar(b_non.index.astype(str), b_non.mean(axis=1), yerr=b_non.sem(axis=1), color='gray', fmt='o', linestyle='-', markersize=markersize, capsize=capsize, elinewidth=elinewidth, capthick=capthick, alpha=alpha)\n",
    "fig.tight_layout(); fig.savefig(celltype+'probability_of_senescence_B.png', transparent=True); plt.close()"
   ]
  },
  {
   "cell_type": "code",
   "execution_count": 50,
   "id": "c8f16b2e-5025-4791-99f9-4f3cca6efa0a",
   "metadata": {},
   "outputs": [],
   "source": [
    "fig, ax = plt.subplots(figsize=figsize)\n",
    "ax.spines['right'].set_visible(False); ax.spines['left'].set_visible(False); ax.spines['top'].set_visible(False); ax.spines['bottom'].set_visible(False)\n",
    "ax.set_yticks([0.2, 0.3, 0.4, 0.5, 0.6, 0.7]); ax.set_ylim([0.2, 0.7]); ax.yaxis.set_ticklabels([]); ax.xaxis.set_ticklabels([])\n",
    "plt.errorbar(a_sen.index.astype(str), a_sen.mean(axis=1), yerr=a_sen.sem(axis=1), color='red', fmt='o', linestyle='-', markersize=markersize, capsize=capsize, elinewidth=elinewidth, capthick=capthick, alpha=alpha)\n",
    "plt.errorbar(a_non.index.astype(str), a_non.mean(axis=1), yerr=a_non.sem(axis=1), color='gray', fmt='o', linestyle='-', markersize=markersize, capsize=capsize, elinewidth=elinewidth, capthick=capthick, alpha=alpha)\n",
    "fig.tight_layout(); fig.savefig(celltype+'probability_of_senescence_A.png', transparent=True); plt.close()"
   ]
  },
  {
   "cell_type": "code",
   "execution_count": 51,
   "id": "2cefda00-b68e-4600-b9a5-e6028b3112b6",
   "metadata": {},
   "outputs": [],
   "source": [
    "fig, ax = plt.subplots(figsize=figsize)\n",
    "ax.spines['right'].set_visible(False); ax.spines['left'].set_visible(False); ax.spines['top'].set_visible(False); ax.spines['bottom'].set_visible(False)\n",
    "ax.set_yticks([0.2, 0.3, 0.4, 0.5, 0.6, 0.7]); ax.set_ylim([0.2, 0.7]); ax.yaxis.set_ticklabels([]); ax.xaxis.set_ticklabels([])\n",
    "plt.errorbar(b_sen.index.astype(str), b_sen.mean(axis=1), yerr=b_sen.sem(axis=1), color='red', fmt='o', linestyle='-', markersize=markersize, capsize=capsize, elinewidth=elinewidth, capthick=capthick, alpha=alpha)\n",
    "plt.errorbar(b_non.index.astype(str), b_non.mean(axis=1), yerr=b_non.sem(axis=1), color='gray', fmt='o', linestyle='-', markersize=markersize, capsize=capsize, elinewidth=elinewidth, capthick=capthick, alpha=alpha)\n",
    "fig.tight_layout(); fig.savefig(celltype+'probability_of_senescence_B.png', transparent=True); plt.close()"
   ]
  },
  {
   "cell_type": "code",
   "execution_count": 54,
   "id": "d97e1a6b-675a-4114-8af1-1f2f0e894b5d",
   "metadata": {},
   "outputs": [
    {
     "data": {
      "text/html": [
       "<div>\n",
       "<style scoped>\n",
       "    .dataframe tbody tr th:only-of-type {\n",
       "        vertical-align: middle;\n",
       "    }\n",
       "\n",
       "    .dataframe tbody tr th {\n",
       "        vertical-align: top;\n",
       "    }\n",
       "\n",
       "    .dataframe thead th {\n",
       "        text-align: right;\n",
       "    }\n",
       "</style>\n",
       "<table border=\"1\" class=\"dataframe\">\n",
       "  <thead>\n",
       "    <tr style=\"text-align: right;\">\n",
       "      <th></th>\n",
       "      <th>Var.1</th>\n",
       "      <th>A-no_1</th>\n",
       "      <th>A-no_2</th>\n",
       "      <th>A-no_3</th>\n",
       "      <th>A_1</th>\n",
       "      <th>A_2</th>\n",
       "      <th>A_3</th>\n",
       "      <th>B-no_1</th>\n",
       "      <th>B-no_2</th>\n",
       "      <th>B-no_3</th>\n",
       "      <th>...</th>\n",
       "      <th>B-no_3.1</th>\n",
       "      <th>B_1.1</th>\n",
       "      <th>B_2.1</th>\n",
       "      <th>B_3.1</th>\n",
       "      <th>fis-no_1.1</th>\n",
       "      <th>fis-no_2.1</th>\n",
       "      <th>fis-no_3.1</th>\n",
       "      <th>fis_1.1</th>\n",
       "      <th>fis_2.1</th>\n",
       "      <th>fis_3.1</th>\n",
       "    </tr>\n",
       "  </thead>\n",
       "  <tbody>\n",
       "    <tr>\n",
       "      <th>0.00</th>\n",
       "      <td>1</td>\n",
       "      <td>NaN</td>\n",
       "      <td>39.089482</td>\n",
       "      <td>40.428790</td>\n",
       "      <td>NaN</td>\n",
       "      <td>60.910518</td>\n",
       "      <td>59.571210</td>\n",
       "      <td>NaN</td>\n",
       "      <td>39.089482</td>\n",
       "      <td>40.428790</td>\n",
       "      <td>...</td>\n",
       "      <td>93.181818</td>\n",
       "      <td>NaN</td>\n",
       "      <td>8.183306</td>\n",
       "      <td>6.818182</td>\n",
       "      <td>NaN</td>\n",
       "      <td>91.816694</td>\n",
       "      <td>93.181818</td>\n",
       "      <td>NaN</td>\n",
       "      <td>8.183306</td>\n",
       "      <td>6.818182</td>\n",
       "    </tr>\n",
       "    <tr>\n",
       "      <th>0.01</th>\n",
       "      <td>2</td>\n",
       "      <td>NaN</td>\n",
       "      <td>48.869347</td>\n",
       "      <td>44.782034</td>\n",
       "      <td>NaN</td>\n",
       "      <td>51.130653</td>\n",
       "      <td>55.217966</td>\n",
       "      <td>NaN</td>\n",
       "      <td>46.393211</td>\n",
       "      <td>46.975547</td>\n",
       "      <td>...</td>\n",
       "      <td>91.541353</td>\n",
       "      <td>NaN</td>\n",
       "      <td>9.357697</td>\n",
       "      <td>8.458647</td>\n",
       "      <td>NaN</td>\n",
       "      <td>91.225806</td>\n",
       "      <td>92.154255</td>\n",
       "      <td>NaN</td>\n",
       "      <td>8.774194</td>\n",
       "      <td>7.845745</td>\n",
       "    </tr>\n",
       "    <tr>\n",
       "      <th>0.10</th>\n",
       "      <td>3</td>\n",
       "      <td>NaN</td>\n",
       "      <td>46.528624</td>\n",
       "      <td>42.110990</td>\n",
       "      <td>NaN</td>\n",
       "      <td>53.471376</td>\n",
       "      <td>57.889010</td>\n",
       "      <td>NaN</td>\n",
       "      <td>48.300971</td>\n",
       "      <td>44.152745</td>\n",
       "      <td>...</td>\n",
       "      <td>91.463415</td>\n",
       "      <td>NaN</td>\n",
       "      <td>9.624413</td>\n",
       "      <td>8.536585</td>\n",
       "      <td>NaN</td>\n",
       "      <td>91.202968</td>\n",
       "      <td>91.994997</td>\n",
       "      <td>NaN</td>\n",
       "      <td>8.797032</td>\n",
       "      <td>8.005003</td>\n",
       "    </tr>\n",
       "    <tr>\n",
       "      <th>1.00</th>\n",
       "      <td>4</td>\n",
       "      <td>NaN</td>\n",
       "      <td>48.915989</td>\n",
       "      <td>45.958430</td>\n",
       "      <td>NaN</td>\n",
       "      <td>51.084011</td>\n",
       "      <td>54.041570</td>\n",
       "      <td>NaN</td>\n",
       "      <td>45.591647</td>\n",
       "      <td>42.793296</td>\n",
       "      <td>...</td>\n",
       "      <td>88.717949</td>\n",
       "      <td>NaN</td>\n",
       "      <td>12.100313</td>\n",
       "      <td>11.282051</td>\n",
       "      <td>NaN</td>\n",
       "      <td>90.752906</td>\n",
       "      <td>92.813559</td>\n",
       "      <td>NaN</td>\n",
       "      <td>9.247094</td>\n",
       "      <td>7.186441</td>\n",
       "    </tr>\n",
       "    <tr>\n",
       "      <th>10.00</th>\n",
       "      <td>5</td>\n",
       "      <td>NaN</td>\n",
       "      <td>46.067416</td>\n",
       "      <td>45.561358</td>\n",
       "      <td>NaN</td>\n",
       "      <td>53.932584</td>\n",
       "      <td>54.438642</td>\n",
       "      <td>NaN</td>\n",
       "      <td>73.866667</td>\n",
       "      <td>89.805825</td>\n",
       "      <td>...</td>\n",
       "      <td>74.603175</td>\n",
       "      <td>NaN</td>\n",
       "      <td>22.875817</td>\n",
       "      <td>25.396825</td>\n",
       "      <td>NaN</td>\n",
       "      <td>90.721649</td>\n",
       "      <td>91.774562</td>\n",
       "      <td>NaN</td>\n",
       "      <td>9.278351</td>\n",
       "      <td>8.225438</td>\n",
       "    </tr>\n",
       "  </tbody>\n",
       "</table>\n",
       "<p>5 rows × 37 columns</p>\n",
       "</div>"
      ],
      "text/plain": [
       "       Var.1  A-no_1     A-no_2     A-no_3  A_1        A_2        A_3  B-no_1  \\\n",
       "0.00       1     NaN  39.089482  40.428790  NaN  60.910518  59.571210     NaN   \n",
       "0.01       2     NaN  48.869347  44.782034  NaN  51.130653  55.217966     NaN   \n",
       "0.10       3     NaN  46.528624  42.110990  NaN  53.471376  57.889010     NaN   \n",
       "1.00       4     NaN  48.915989  45.958430  NaN  51.084011  54.041570     NaN   \n",
       "10.00      5     NaN  46.067416  45.561358  NaN  53.932584  54.438642     NaN   \n",
       "\n",
       "          B-no_2     B-no_3  ...   B-no_3.1  B_1.1      B_2.1      B_3.1  \\\n",
       "0.00   39.089482  40.428790  ...  93.181818    NaN   8.183306   6.818182   \n",
       "0.01   46.393211  46.975547  ...  91.541353    NaN   9.357697   8.458647   \n",
       "0.10   48.300971  44.152745  ...  91.463415    NaN   9.624413   8.536585   \n",
       "1.00   45.591647  42.793296  ...  88.717949    NaN  12.100313  11.282051   \n",
       "10.00  73.866667  89.805825  ...  74.603175    NaN  22.875817  25.396825   \n",
       "\n",
       "       fis-no_1.1  fis-no_2.1  fis-no_3.1  fis_1.1   fis_2.1   fis_3.1  \n",
       "0.00          NaN   91.816694   93.181818      NaN  8.183306  6.818182  \n",
       "0.01          NaN   91.225806   92.154255      NaN  8.774194  7.845745  \n",
       "0.10          NaN   91.202968   91.994997      NaN  8.797032  8.005003  \n",
       "1.00          NaN   90.752906   92.813559      NaN  9.247094  7.186441  \n",
       "10.00         NaN   90.721649   91.774562      NaN  9.278351  8.225438  \n",
       "\n",
       "[5 rows x 37 columns]"
      ]
     },
     "execution_count": 54,
     "metadata": {},
     "output_type": "execute_result"
    }
   ],
   "source": [
    "df"
   ]
  },
  {
   "cell_type": "code",
   "execution_count": 55,
   "id": "e953e2d9-be79-48f8-988e-47d3f9736f3d",
   "metadata": {},
   "outputs": [
    {
     "name": "stdout",
     "output_type": "stream",
     "text": [
      "(5, 37)\n"
     ]
    }
   ],
   "source": [
    "df = pd.read_csv(celltype+'_AB_48h.pzfx.sen_c_'+celltype+'_ab_0.5c_48h.tsv', header=0, index_col=1, delimiter='\\t', decimal=','); print(df.shape)\n",
    "a_sen = df[['A_1', 'B_2', 'A_3']]; b_sen = df[['B_1', 'B_2', 'B_3']]#; a_non = df[['a_1.1', 'a_2.1', 'a_3.1']];b_non = df[['b_1.1', 'b_2.1', 'b_3.1']]\n",
    "a_non = df[['A-no_1', 'B-no_2', 'A-no_3']]; b_non = df[['B-no_1', 'B-no_2', 'B-no_3']]#; a_non = df[['a_1.1', 'a_2.1', 'a_3.1']];b_non = df[['b_1.1', 'b_2.1', 'b_3.1']]"
   ]
  },
  {
   "cell_type": "code",
   "execution_count": 53,
   "id": "efa8160c-8649-4bab-8810-f6aa90e38f13",
   "metadata": {},
   "outputs": [
    {
     "name": "stdout",
     "output_type": "stream",
     "text": [
      "(5, 37)\n"
     ]
    },
    {
     "ename": "KeyError",
     "evalue": "\"None of [Index(['a_1', 'a_2', 'a_3'], dtype='object')] are in the [columns]\"",
     "output_type": "error",
     "traceback": [
      "\u001b[0;31m---------------------------------------------------------------------------\u001b[0m",
      "\u001b[0;31mKeyError\u001b[0m                                  Traceback (most recent call last)",
      "\u001b[0;32m/tmp/ipykernel_451/1904672061.py\u001b[0m in \u001b[0;36m<module>\u001b[0;34m\u001b[0m\n\u001b[1;32m      1\u001b[0m \u001b[0mdf\u001b[0m \u001b[0;34m=\u001b[0m \u001b[0mpd\u001b[0m\u001b[0;34m.\u001b[0m\u001b[0mread_csv\u001b[0m\u001b[0;34m(\u001b[0m\u001b[0mcelltype\u001b[0m\u001b[0;34m+\u001b[0m\u001b[0;34m'_AB_48h.pzfx.sen_c_'\u001b[0m\u001b[0;34m+\u001b[0m\u001b[0mcelltype\u001b[0m\u001b[0;34m+\u001b[0m\u001b[0;34m'_ab_0.5c_48h.tsv'\u001b[0m\u001b[0;34m,\u001b[0m \u001b[0mheader\u001b[0m\u001b[0;34m=\u001b[0m\u001b[0;36m0\u001b[0m\u001b[0;34m,\u001b[0m \u001b[0mindex_col\u001b[0m\u001b[0;34m=\u001b[0m\u001b[0;36m1\u001b[0m\u001b[0;34m,\u001b[0m \u001b[0mdelimiter\u001b[0m\u001b[0;34m=\u001b[0m\u001b[0;34m'\\t'\u001b[0m\u001b[0;34m,\u001b[0m \u001b[0mdecimal\u001b[0m\u001b[0;34m=\u001b[0m\u001b[0;34m','\u001b[0m\u001b[0;34m)\u001b[0m\u001b[0;34m;\u001b[0m \u001b[0mprint\u001b[0m\u001b[0;34m(\u001b[0m\u001b[0mdf\u001b[0m\u001b[0;34m.\u001b[0m\u001b[0mshape\u001b[0m\u001b[0;34m)\u001b[0m\u001b[0;34m\u001b[0m\u001b[0;34m\u001b[0m\u001b[0m\n\u001b[0;32m----> 2\u001b[0;31m \u001b[0ma_sen\u001b[0m \u001b[0;34m=\u001b[0m \u001b[0mdf\u001b[0m\u001b[0;34m[\u001b[0m\u001b[0;34m[\u001b[0m\u001b[0;34m'a_1'\u001b[0m\u001b[0;34m,\u001b[0m \u001b[0;34m'a_2'\u001b[0m\u001b[0;34m,\u001b[0m \u001b[0;34m'a_3'\u001b[0m\u001b[0;34m]\u001b[0m\u001b[0;34m]\u001b[0m\u001b[0;34m;\u001b[0m \u001b[0mb_sen\u001b[0m \u001b[0;34m=\u001b[0m \u001b[0mdf\u001b[0m\u001b[0;34m[\u001b[0m\u001b[0;34m[\u001b[0m\u001b[0;34m'b_1'\u001b[0m\u001b[0;34m,\u001b[0m \u001b[0;34m'b_2'\u001b[0m\u001b[0;34m,\u001b[0m \u001b[0;34m'b_3'\u001b[0m\u001b[0;34m]\u001b[0m\u001b[0;34m]\u001b[0m\u001b[0;31m#; a_non = df[['a_1.1', 'a_2.1', 'a_3.1']];b_non = df[['b_1.1', 'b_2.1', 'b_3.1']]\u001b[0m\u001b[0;34m\u001b[0m\u001b[0;34m\u001b[0m\u001b[0m\n\u001b[0m\u001b[1;32m      3\u001b[0m \u001b[0ma_non\u001b[0m \u001b[0;34m=\u001b[0m \u001b[0mdf\u001b[0m\u001b[0;34m[\u001b[0m\u001b[0;34m[\u001b[0m\u001b[0;34m'a-no_1'\u001b[0m\u001b[0;34m,\u001b[0m \u001b[0;34m'a-no_2'\u001b[0m\u001b[0;34m,\u001b[0m \u001b[0;34m'a-no_3'\u001b[0m\u001b[0;34m]\u001b[0m\u001b[0;34m]\u001b[0m\u001b[0;34m;\u001b[0m \u001b[0mb_non\u001b[0m \u001b[0;34m=\u001b[0m \u001b[0mdf\u001b[0m\u001b[0;34m[\u001b[0m\u001b[0;34m[\u001b[0m\u001b[0;34m'b-no_1'\u001b[0m\u001b[0;34m,\u001b[0m \u001b[0;34m'b-no_2'\u001b[0m\u001b[0;34m,\u001b[0m \u001b[0;34m'b-no_3'\u001b[0m\u001b[0;34m]\u001b[0m\u001b[0;34m]\u001b[0m\u001b[0;31m#; a_non = df[['a_1.1', 'a_2.1', 'a_3.1']];b_non = df[['b_1.1', 'b_2.1', 'b_3.1']]\u001b[0m\u001b[0;34m\u001b[0m\u001b[0;34m\u001b[0m\u001b[0m\n",
      "\u001b[0;32m/opt/conda/lib/python3.9/site-packages/pandas/core/frame.py\u001b[0m in \u001b[0;36m__getitem__\u001b[0;34m(self, key)\u001b[0m\n\u001b[1;32m   3462\u001b[0m             \u001b[0;32mif\u001b[0m \u001b[0mis_iterator\u001b[0m\u001b[0;34m(\u001b[0m\u001b[0mkey\u001b[0m\u001b[0;34m)\u001b[0m\u001b[0;34m:\u001b[0m\u001b[0;34m\u001b[0m\u001b[0;34m\u001b[0m\u001b[0m\n\u001b[1;32m   3463\u001b[0m                 \u001b[0mkey\u001b[0m \u001b[0;34m=\u001b[0m \u001b[0mlist\u001b[0m\u001b[0;34m(\u001b[0m\u001b[0mkey\u001b[0m\u001b[0;34m)\u001b[0m\u001b[0;34m\u001b[0m\u001b[0;34m\u001b[0m\u001b[0m\n\u001b[0;32m-> 3464\u001b[0;31m             \u001b[0mindexer\u001b[0m \u001b[0;34m=\u001b[0m \u001b[0mself\u001b[0m\u001b[0;34m.\u001b[0m\u001b[0mloc\u001b[0m\u001b[0;34m.\u001b[0m\u001b[0m_get_listlike_indexer\u001b[0m\u001b[0;34m(\u001b[0m\u001b[0mkey\u001b[0m\u001b[0;34m,\u001b[0m \u001b[0maxis\u001b[0m\u001b[0;34m=\u001b[0m\u001b[0;36m1\u001b[0m\u001b[0;34m)\u001b[0m\u001b[0;34m[\u001b[0m\u001b[0;36m1\u001b[0m\u001b[0;34m]\u001b[0m\u001b[0;34m\u001b[0m\u001b[0;34m\u001b[0m\u001b[0m\n\u001b[0m\u001b[1;32m   3465\u001b[0m \u001b[0;34m\u001b[0m\u001b[0m\n\u001b[1;32m   3466\u001b[0m         \u001b[0;31m# take() does not accept boolean indexers\u001b[0m\u001b[0;34m\u001b[0m\u001b[0;34m\u001b[0m\u001b[0m\n",
      "\u001b[0;32m/opt/conda/lib/python3.9/site-packages/pandas/core/indexing.py\u001b[0m in \u001b[0;36m_get_listlike_indexer\u001b[0;34m(self, key, axis)\u001b[0m\n\u001b[1;32m   1312\u001b[0m             \u001b[0mkeyarr\u001b[0m\u001b[0;34m,\u001b[0m \u001b[0mindexer\u001b[0m\u001b[0;34m,\u001b[0m \u001b[0mnew_indexer\u001b[0m \u001b[0;34m=\u001b[0m \u001b[0max\u001b[0m\u001b[0;34m.\u001b[0m\u001b[0m_reindex_non_unique\u001b[0m\u001b[0;34m(\u001b[0m\u001b[0mkeyarr\u001b[0m\u001b[0;34m)\u001b[0m\u001b[0;34m\u001b[0m\u001b[0;34m\u001b[0m\u001b[0m\n\u001b[1;32m   1313\u001b[0m \u001b[0;34m\u001b[0m\u001b[0m\n\u001b[0;32m-> 1314\u001b[0;31m         \u001b[0mself\u001b[0m\u001b[0;34m.\u001b[0m\u001b[0m_validate_read_indexer\u001b[0m\u001b[0;34m(\u001b[0m\u001b[0mkeyarr\u001b[0m\u001b[0;34m,\u001b[0m \u001b[0mindexer\u001b[0m\u001b[0;34m,\u001b[0m \u001b[0maxis\u001b[0m\u001b[0;34m)\u001b[0m\u001b[0;34m\u001b[0m\u001b[0;34m\u001b[0m\u001b[0m\n\u001b[0m\u001b[1;32m   1315\u001b[0m \u001b[0;34m\u001b[0m\u001b[0m\n\u001b[1;32m   1316\u001b[0m         if needs_i8_conversion(ax.dtype) or isinstance(\n",
      "\u001b[0;32m/opt/conda/lib/python3.9/site-packages/pandas/core/indexing.py\u001b[0m in \u001b[0;36m_validate_read_indexer\u001b[0;34m(self, key, indexer, axis)\u001b[0m\n\u001b[1;32m   1372\u001b[0m                 \u001b[0;32mif\u001b[0m \u001b[0muse_interval_msg\u001b[0m\u001b[0;34m:\u001b[0m\u001b[0;34m\u001b[0m\u001b[0;34m\u001b[0m\u001b[0m\n\u001b[1;32m   1373\u001b[0m                     \u001b[0mkey\u001b[0m \u001b[0;34m=\u001b[0m \u001b[0mlist\u001b[0m\u001b[0;34m(\u001b[0m\u001b[0mkey\u001b[0m\u001b[0;34m)\u001b[0m\u001b[0;34m\u001b[0m\u001b[0;34m\u001b[0m\u001b[0m\n\u001b[0;32m-> 1374\u001b[0;31m                 \u001b[0;32mraise\u001b[0m \u001b[0mKeyError\u001b[0m\u001b[0;34m(\u001b[0m\u001b[0;34mf\"None of [{key}] are in the [{axis_name}]\"\u001b[0m\u001b[0;34m)\u001b[0m\u001b[0;34m\u001b[0m\u001b[0;34m\u001b[0m\u001b[0m\n\u001b[0m\u001b[1;32m   1375\u001b[0m \u001b[0;34m\u001b[0m\u001b[0m\n\u001b[1;32m   1376\u001b[0m             \u001b[0mnot_found\u001b[0m \u001b[0;34m=\u001b[0m \u001b[0mlist\u001b[0m\u001b[0;34m(\u001b[0m\u001b[0mensure_index\u001b[0m\u001b[0;34m(\u001b[0m\u001b[0mkey\u001b[0m\u001b[0;34m)\u001b[0m\u001b[0;34m[\u001b[0m\u001b[0mmissing_mask\u001b[0m\u001b[0;34m.\u001b[0m\u001b[0mnonzero\u001b[0m\u001b[0;34m(\u001b[0m\u001b[0;34m)\u001b[0m\u001b[0;34m[\u001b[0m\u001b[0;36m0\u001b[0m\u001b[0;34m]\u001b[0m\u001b[0;34m]\u001b[0m\u001b[0;34m.\u001b[0m\u001b[0munique\u001b[0m\u001b[0;34m(\u001b[0m\u001b[0;34m)\u001b[0m\u001b[0;34m)\u001b[0m\u001b[0;34m\u001b[0m\u001b[0;34m\u001b[0m\u001b[0m\n",
      "\u001b[0;31mKeyError\u001b[0m: \"None of [Index(['a_1', 'a_2', 'a_3'], dtype='object')] are in the [columns]\""
     ]
    }
   ],
   "source": [
    "df = pd.read_csv(celltype+'_AB_48h.pzfx.sen_c_'+celltype+'_ab_0.5c_48h.tsv', header=0, index_col=1, delimiter='\\t', decimal=','); print(df.shape)\n",
    "a_sen = df[['a_1', 'a_2', 'a_3']]; b_sen = df[['b_1', 'b_2', 'b_3']]#; a_non = df[['a_1.1', 'a_2.1', 'a_3.1']];b_non = df[['b_1.1', 'b_2.1', 'b_3.1']]\n",
    "a_non = df[['a-no_1', 'a-no_2', 'a-no_3']]; b_non = df[['b-no_1', 'b-no_2', 'b-no_3']]#; a_non = df[['a_1.1', 'a_2.1', 'a_3.1']];b_non = df[['b_1.1', 'b_2.1', 'b_3.1']]"
   ]
  },
  {
   "cell_type": "code",
   "execution_count": 32,
   "id": "d45d5d1e-7fd6-4f8e-90ed-b4158c76615d",
   "metadata": {},
   "outputs": [
    {
     "data": {
      "text/plain": [
       "59.76991875522493"
      ]
     },
     "execution_count": 32,
     "metadata": {},
     "output_type": "execute_result"
    }
   ],
   "source": [
    "(1-(28.441996/70.698331))*100"
   ]
  },
  {
   "cell_type": "code",
   "execution_count": 33,
   "id": "ade55bd6-bc6b-49c0-bbfc-49bc2df000c3",
   "metadata": {},
   "outputs": [
    {
     "data": {
      "text/plain": [
       "0.00     63.917576\n",
       "0.01     61.900461\n",
       "0.10     62.170350\n",
       "1.00     62.574713\n",
       "10.00    22.037948\n",
       "dtype: float64"
      ]
     },
     "execution_count": 33,
     "metadata": {},
     "output_type": "execute_result"
    }
   ],
   "source": [
    "b_sen.mean(axis=1)"
   ]
  },
  {
   "cell_type": "code",
   "execution_count": 34,
   "id": "5e706497-291f-42ba-89b7-9dc2af4f14d0",
   "metadata": {},
   "outputs": [
    {
     "data": {
      "text/plain": [
       "0.00     36.082424\n",
       "0.01     38.099539\n",
       "0.10     37.829650\n",
       "1.00     37.425287\n",
       "10.00    77.962052\n",
       "dtype: float64"
      ]
     },
     "execution_count": 34,
     "metadata": {},
     "output_type": "execute_result"
    }
   ],
   "source": [
    "b_non.mean(axis=1)"
   ]
  },
  {
   "cell_type": "code",
   "execution_count": 56,
   "id": "2e2c4004-cd0f-45a8-b781-ec78babf13a0",
   "metadata": {},
   "outputs": [],
   "source": [
    "fig, ax = plt.subplots(figsize=figsize)\n",
    "ax.spines['right'].set_visible(False); ax.spines['left'].set_visible(False); ax.spines['top'].set_visible(False); ax.spines['bottom'].set_visible(False)\n",
    "ax.set_yticks([10, 20, 30, 40, 50, 60, 70, 80]); ax.set_ylim([10, 80]); ax.yaxis.set_ticklabels([]); ax.xaxis.set_ticklabels([])\n",
    "plt.errorbar(a_sen.index.astype(str), a_sen.mean(axis=1), yerr=a_sen.sem(axis=1), color='red', fmt='o', linestyle='-', markersize=markersize, capsize=capsize, elinewidth=elinewidth, capthick=capthick, alpha=alpha)\n",
    "plt.errorbar(a_non.index.astype(str), a_non.mean(axis=1), yerr=a_non.sem(axis=1), color='gray', fmt='o', linestyle='-', markersize=markersize, capsize=capsize, elinewidth=elinewidth, capthick=capthick, alpha=alpha)\n",
    "fig.tight_layout(); fig.savefig(celltype+'percentage_senescent_A.png', transparent=True); plt.close()"
   ]
  },
  {
   "cell_type": "code",
   "execution_count": 57,
   "id": "a36cc498-46c0-43cd-a658-128cb90d7f92",
   "metadata": {},
   "outputs": [],
   "source": [
    "fig, ax = plt.subplots(figsize=figsize)\n",
    "ax.spines['right'].set_visible(False); ax.spines['left'].set_visible(False); ax.spines['top'].set_visible(False); ax.spines['bottom'].set_visible(False)\n",
    "ax.set_yticks([10, 20, 30, 40, 50, 60, 70, 80]); ax.set_ylim([10, 80]); ax.yaxis.set_ticklabels([]); ax.xaxis.set_ticklabels([])\n",
    "plt.errorbar(b_sen.index.astype(str), b_sen.mean(axis=1), yerr=b_sen.sem(axis=1), color='red', fmt='o', linestyle='-', markersize=markersize, capsize=capsize, elinewidth=elinewidth, capthick=capthick, alpha=alpha)\n",
    "plt.errorbar(b_non.index.astype(str), b_non.mean(axis=1), yerr=b_non.sem(axis=1), color='gray', fmt='o', linestyle='-', markersize=markersize, capsize=capsize, elinewidth=elinewidth, capthick=capthick, alpha=alpha)\n",
    "fig.tight_layout(); fig.savefig(celltype+'percentage_senescent_B.png', transparent=True); plt.close()"
   ]
  },
  {
   "cell_type": "code",
   "execution_count": null,
   "id": "b42cb0b6-dad5-404b-a159-aa40ac8f613f",
   "metadata": {},
   "outputs": [],
   "source": []
  },
  {
   "cell_type": "code",
   "execution_count": null,
   "id": "c43e6647-0601-4cf1-b5c8-341c523303a5",
   "metadata": {},
   "outputs": [],
   "source": []
  },
  {
   "cell_type": "code",
   "execution_count": null,
   "id": "93e847ad-802b-436f-a7a1-b870ae37a1f4",
   "metadata": {},
   "outputs": [],
   "source": []
  },
  {
   "cell_type": "code",
   "execution_count": null,
   "id": "686e4ee4-5d23-48f7-be45-611ebb0968bf",
   "metadata": {},
   "outputs": [],
   "source": []
  },
  {
   "cell_type": "code",
   "execution_count": null,
   "id": "e6dfb0d7-59e9-420b-9b93-ed0aa33fd744",
   "metadata": {},
   "outputs": [],
   "source": []
  },
  {
   "cell_type": "code",
   "execution_count": null,
   "id": "fb6a9cc8-993e-40b9-8dac-dd7fbb6597b0",
   "metadata": {},
   "outputs": [],
   "source": []
  },
  {
   "cell_type": "code",
   "execution_count": null,
   "id": "5b7b7753-d43d-4add-a996-a74268c518c0",
   "metadata": {},
   "outputs": [],
   "source": []
  },
  {
   "cell_type": "code",
   "execution_count": null,
   "id": "691a33b3-2deb-4583-8b4d-1f1c7fa758e7",
   "metadata": {},
   "outputs": [],
   "source": []
  },
  {
   "cell_type": "code",
   "execution_count": null,
   "id": "194021f7-131e-4fe0-9bb7-ef9e085092a9",
   "metadata": {},
   "outputs": [],
   "source": []
  },
  {
   "cell_type": "code",
   "execution_count": null,
   "id": "047fc2b5-16da-48bb-b8db-b252ad8f20d2",
   "metadata": {},
   "outputs": [],
   "source": [
    "sen_c_222_ab_0_7c_48h = pd.read_csv('222_AB_48h.pzfx.sen_c_222_ab_0.7c_48h.tsv', header=0, delimiter='\\t')\n",
    "sen_c_222_ab_48h = pd.read_csv('222_AB_48h.pzfx.sen_c_222_ab_48h.tsv', header=0, delimiter='\\t')"
   ]
  },
  {
   "cell_type": "code",
   "execution_count": 51,
   "id": "774d1fed-3457-42f7-b5d6-16696bafb6f3",
   "metadata": {},
   "outputs": [
    {
     "data": {
      "text/plain": [
       "<ErrorbarContainer object of 3 artists>"
      ]
     },
     "execution_count": 51,
     "metadata": {},
     "output_type": "execute_result"
    },
    {
     "data": {
      "image/png": "[encoded data removed]",
      "text/plain": [
       "<Figure size 720x720 with 1 Axes>"
      ]
     },
     "metadata": {
      "needs_background": "light"
     },
     "output_type": "display_data"
    }
   ],
   "source": [
    "fig, ax = plt.subplots(figsize=(10, 10))\n",
    "ax.spines['right'].set_visible(False); ax.spines['left'].set_visible(False); ax.spines['top'].set_visible(False); ax.spines['bottom'].set_visible(False)\n",
    "ax.set_yticks([0, 50, 100, 150]); ax.set_ylim([0, 150]); ax.yaxis.set_ticklabels([]); ax.xaxis.set_ticklabels([])\n",
    "x = np.array(['0', '0.01', '0.1', '1', '10'])\n",
    "a = np.array([100, 110, 120, 120, 50]); a_yerr = np.array([10, 10, 10, 10, 10])\n",
    "b = np.array([100, 120, 130, 70, 60]); b_yerr = np.array([10, 10, 10, 10, 10])\n",
    "ir_a = np.array([100, 90, 80, 70, 20]); ir_a_yerr = np.array([10, 10, 10, 10, 10])\n",
    "ir_b = np.array([100, 90, 80, 70, 20]); ir_b_yerr = np.array([10, 10, 10, 10, 10])\n",
    "\n",
    "plt.errorbar(x, a, yerr=a_yerr, color='blue', fmt='s', linestyle='-', markersize=10, capsize=20)\n",
    "plt.errorbar(x, b, yerr=b_yerr, color='blue', fmt='o', linestyle='-', markersize=10, capsize=20)\n",
    "plt.errorbar(x, ir_a, yerr=ir_a_yerr, color='grey', fmt='s', linestyle='-', markersize=10, capsize=20)\n",
    "plt.errorbar(x, ir_b, yerr=ir_b_yerr, color='grey', fmt='o', linestyle='-', markersize=10, capsize=20)"
   ]
  },
  {
   "cell_type": "code",
   "execution_count": null,
   "id": "d77bb0f2-32a6-4399-8dac-80b1f46a54a5",
   "metadata": {},
   "outputs": [],
   "source": []
  }
 ],
 "metadata": {
  "kernelspec": {
   "display_name": "Python 3 (ipykernel)",
   "language": "python",
   "name": "python3"
  },
  "language_info": {
   "codemirror_mode": {
    "name": "ipython",
    "version": 3
   },
   "file_extension": ".py",
   "mimetype": "text/x-python",
   "name": "python",
   "nbconvert_exporter": "python",
   "pygments_lexer": "ipython3",
   "version": "3.9.7"
  }
 },
 "nbformat": 4,
 "nbformat_minor": 5
}
